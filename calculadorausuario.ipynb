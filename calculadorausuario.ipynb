{
  "cells": [
    {
      "cell_type": "markdown",
      "metadata": {
        "id": "view-in-github",
        "colab_type": "text"
      },
      "source": [
        "<a href=\"https://colab.research.google.com/github/Rubiliana/proz/blob/main/calculadorausuario.ipynb\" target=\"_parent\"><img src=\"https://colab.research.google.com/assets/colab-badge.svg\" alt=\"Open In Colab\"/></a>"
      ]
    },
    {
      "cell_type": "code",
      "source": [
        "def calculator():\n",
        "    while True:\n",
        "        \n",
        "        num1 = input(\"Digite o primeiro número: \")\n",
        "        if num1 == 'sair':\n",
        "            break\n",
        "        elif not num1.replace('.','',1).isdigit():\n",
        "            print(\"Erro: Digite um número válido.\")\n",
        "            continue\n",
        "        \n",
        "        num2 = input(\"Digite o segundo número: \")\n",
        "        if num2 == 'sair':\n",
        "            break\n",
        "        elif not num2.replace('.','',1).isdigit():\n",
        "            print(\"Erro: Digite um número válido.\")\n",
        "            continue\n",
        "        \n",
        "        op = input(\"Digite o operador (+, -, *, /): \")\n",
        "        if op == 'sair':\n",
        "            break\n",
        "        elif op not in ['+', '-', '*', '/']:\n",
        "            print(\"Erro: Operador inválido.\")\n",
        "            continue\n",
        "        \n",
        "        # Realizar cálculo\n",
        "        if op == '+':\n",
        "            resultado = float(num1) + float(num2)\n",
        "        elif op == '-':\n",
        "            resultado = float(num1) - float(num2)\n",
        "        elif op == '*':\n",
        "            resultado = float(num1) * float(num2)\n",
        "        elif op == '/':\n",
        "            resultado = float(num1) / float(num2)\n",
        "        \n",
        "      \n",
        "        print(f\"Resultado: {round(resultado, 2)}\")\n",
        "\n",
        "calculator()\n",
        "\n",
        "\n",
        "\n",
        "\n",
        "\n",
        "\n",
        "\n",
        "\n"
      ],
      "metadata": {
        "id": "p5Rk29meGoYB",
        "outputId": "4eaa56f9-ff5e-422e-a0a2-c7459f4d5687",
        "colab": {
          "base_uri": "https://localhost:8080/"
        }
      },
      "execution_count": null,
      "outputs": [
        {
          "output_type": "stream",
          "name": "stdout",
          "text": [
            "Digite o primeiro número: 2\n",
            "Digite o segundo número: 2\n",
            "Digite o operador (+, -, *, /): *\n",
            "Resultado: 4.0\n"
          ]
        }
      ]
    }
  ],
  "metadata": {
    "colab": {
      "name": "Olá, este é o Colaboratory",
      "toc_visible": true,
      "provenance": [],
      "include_colab_link": true
    },
    "kernelspec": {
      "display_name": "Python 3",
      "name": "python3"
    }
  },
  "nbformat": 4,
  "nbformat_minor": 0
}