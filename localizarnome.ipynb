{
  "cells": [
    {
      "cell_type": "markdown",
      "metadata": {
        "id": "view-in-github",
        "colab_type": "text"
      },
      "source": [
        "<a href=\"https://colab.research.google.com/github/Rubiliana/proz/blob/main/localizarnome.ipynb\" target=\"_parent\"><img src=\"https://colab.research.google.com/assets/colab-badge.svg\" alt=\"Open In Colab\"/></a>"
      ]
    },
    {
      "cell_type": "code",
      "source": [
        "nomes = [\"Ana\", \"Paula\", \"Alan\", \"Toberta\"]\n",
        "\n",
        "i = 0\n",
        "encontrado = False\n",
        "\n",
        "while i < len(nomes):\n",
        "    if nomes[i] == \"Ana\":\n",
        "        encontrado = True\n",
        "        break\n",
        "    i += 1\n",
        "\n",
        "if encontrado:\n",
        "    print(\"Ana encontrado no índice\", i)\n",
        "else:\n",
        "    print(\"Ana não encontrado na lista\")\n"
      ],
      "metadata": {
        "id": "cfvlJBO-FsWK",
        "outputId": "7b3fab8e-866e-469c-bb94-6102fc474a90",
        "colab": {
          "base_uri": "https://localhost:8080/"
        }
      },
      "execution_count": 5,
      "outputs": [
        {
          "output_type": "stream",
          "name": "stdout",
          "text": [
            "Ana encontrado no índice 0\n"
          ]
        }
      ]
    }
  ],
  "metadata": {
    "colab": {
      "name": "Olá, este é o Colaboratory",
      "toc_visible": true,
      "provenance": [],
      "include_colab_link": true
    },
    "kernelspec": {
      "display_name": "Python 3",
      "name": "python3"
    }
  },
  "nbformat": 4,
  "nbformat_minor": 0
}